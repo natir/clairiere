{
 "cells": [
  {
   "cell_type": "markdown",
   "id": "3e0cb6b7-7f5f-4b47-94e9-534b734fa9eb",
   "metadata": {},
   "source": [
    "# Run benchmark"
   ]
  },
  {
   "cell_type": "code",
   "execution_count": null,
   "id": "62c17b6e-43b2-4c96-a817-7b865274db18",
   "metadata": {},
   "outputs": [],
   "source": [
    "!make -C experiment benchmark"
   ]
  },
  {
   "cell_type": "markdown",
   "id": "8092f7fd-8e7c-43de-b591-3c8e9bc94a59",
   "metadata": {},
   "source": [
    "## Get data"
   ]
  },
  {
   "cell_type": "code",
   "execution_count": null,
   "id": "d8d23c91-cc14-45da-a84c-f58f13ac40e7",
   "metadata": {},
   "outputs": [],
   "source": [
    "import pandas\n",
    "import pathlib\n",
    "\n",
    "workdir = pathlib.Path(\"experiment\")\n",
    "result  = workdir / \"result\"\n",
    "dataset = workdir / \"dataset\""
   ]
  },
  {
   "cell_type": "markdown",
   "id": "c6426315-0061-4389-8bee-6cf05687b91f",
   "metadata": {},
   "source": [
    "## Build"
   ]
  },
  {
   "cell_type": "code",
   "execution_count": null,
   "id": "8d443901-7866-4caf-9aed-6b7281c53fec",
   "metadata": {},
   "outputs": [],
   "source": [
    "def build_data(path: pathlib.Path, input_path: pathlib.Path):\n",
    "    data = pandas.read_csv(path)\n",
    "\n",
    "    data[\"lines\"] = sum(1 for _ in open(input_path))\n",
    "\n",
    "    return data\n",
    "\n",
    "build = pandas.concat((\n",
    "    build_data(result / \"build_clinvar.csv\", dataset / \"clinvar.bed\"),\n",
    "    build_data(result / \"build_gnomad.csv\", dataset / \"gnomad.bed\"),\n",
    "    build_data(result / \"build_hg38.csv\", dataset / \"hg38.bed\"),\n",
    "    build_data(result / \"build_hg001.csv\", dataset / \"hg001.bed\"),\n",
    "    build_data(result / \"build_hg002.csv\", dataset / \"hg002.bed\"),\n",
    "    build_data(result / \"build_hg003.csv\", dataset / \"hg003.bed\"),\n",
    "    build_data(result / \"build_hg004.csv\", dataset / \"hg004.bed\"),\n",
    "    build_data(result / \"build_hg006.csv\", dataset / \"hg006.bed\"),\n",
    "    build_data(result / \"build_hg007.csv\", dataset / \"hg007.bed\"),\n",
    "))"
   ]
  },
  {
   "cell_type": "markdown",
   "id": "d6dc589c-1d1c-48b8-a4ca-e3abde5990f5",
   "metadata": {},
   "source": [
    "## Query"
   ]
  },
  {
   "cell_type": "code",
   "execution_count": null,
   "id": "b325313a-8ee8-49fb-a4c3-18199e930b85",
   "metadata": {},
   "outputs": [],
   "source": [
    "def query_data(path: pathlib.Path, input_path: pathlib.Path):\n",
    "    data = pandas.read_csv(path)\n",
    "    \n",
    "    data[\"lines\"] = sum(1 for _ in open(input_path))\n",
    "    data[\"time\"] = data[\"time\"] / 100\n",
    "    \n",
    "    data = data.groupby(\"command\").agg({\n",
    "        \"lines\": \"first\",\n",
    "        \"time\": [\"mean\", \"median\"]\n",
    "    })\n",
    "    \n",
    "    data.columns = [\"lines\", \"mean\", \"median\"]\n",
    "\n",
    "    return data.reset_index()\n",
    "\n",
    "\n",
    "query = pandas.concat((\n",
    "    query_data(result / \"query_clinvar.csv\", dataset / \"clinvar.bed\"),\n",
    "    query_data(result / \"query_gnomad.csv\", dataset / \"gnomad.bed\"),\n",
    "    query_data(result / \"query_hg38.csv\", dataset / \"hg38.bed\"),\n",
    "    query_data(result / \"query_hg001.csv\", dataset / \"hg001.bed\"),\n",
    "    query_data(result / \"query_hg002.csv\", dataset / \"hg002.bed\"),\n",
    "    query_data(result / \"query_hg003.csv\", dataset / \"hg003.bed\"),\n",
    "    query_data(result / \"query_hg004.csv\", dataset / \"hg004.bed\"),\n",
    "    query_data(result / \"query_hg006.csv\", dataset / \"hg006.bed\"),\n",
    "))"
   ]
  },
  {
   "cell_type": "markdown",
   "id": "429f4b61-ba10-47e9-a6c5-a4a0fb772d4e",
   "metadata": {},
   "source": [
    "## Annotation variant"
   ]
  },
  {
   "cell_type": "code",
   "execution_count": null,
   "id": "e481d224-359c-4944-ad65-62c4f390e7a9",
   "metadata": {},
   "outputs": [],
   "source": [
    "annotation_variant = pandas.concat((\n",
    "    build_data(result / \"annotation_variant_clinvar.csv\", dataset / \"clinvar.bed\"),\n",
    "    build_data(result / \"annotation_variant_gnomad.csv\", dataset / \"gnomad.bed\"),\n",
    "    build_data(result / \"annotation_variant_hg001.csv\", dataset / \"hg001.bed\"),\n",
    "    build_data(result / \"annotation_variant_hg002.csv\", dataset / \"hg002.bed\"),\n",
    "    build_data(result / \"annotation_variant_hg003.csv\", dataset / \"hg003.bed\"),\n",
    "    build_data(result / \"annotation_variant_hg004.csv\", dataset / \"hg004.bed\"),\n",
    "    build_data(result / \"annotation_variant_hg006.csv\", dataset / \"hg006.bed\"),\n",
    "    build_data(result / \"annotation_variant_hg007.csv\", dataset / \"hg007.bed\"),\n",
    "))"
   ]
  },
  {
   "cell_type": "markdown",
   "id": "13742afd-51c5-4d6a-9378-a5dd49fcc81a",
   "metadata": {},
   "source": [
    "## Plot"
   ]
  },
  {
   "cell_type": "code",
   "execution_count": null,
   "id": "c4246847-08ae-4d2c-9b76-d3d8f29a8229",
   "metadata": {},
   "outputs": [],
   "source": [
    "import altair\n",
    "\n",
    "altair.renderers.set_embed_options(theme='dark')"
   ]
  },
  {
   "cell_type": "code",
   "execution_count": null,
   "id": "c1aa7c5c-ceeb-495e-988f-81b06fcd5850",
   "metadata": {},
   "outputs": [],
   "source": [
    "def make_selection():\n",
    "    selection = altair.selection_point(fields=['command'])\n",
    "    color = altair.condition(\n",
    "        selection,\n",
    "        altair.Color('command:N').legend(None),\n",
    "        altair.value('lightgray')\n",
    "    )\n",
    "    opacity = altair.condition(selection, altair.value(1.0), altair.value(0.25))\n",
    "\n",
    "    return (selection, color, opacity)\n",
    "\n",
    "def make_plot(data: pandas.DataFrame, selection, color, opacity) -> altair.Chart:\n",
    "    point = altair.Chart(data).mark_line().encode(\n",
    "        x=altair.X(\"lines\", title=\"# bed records\"),\n",
    "        y=altair.Y(\"median\", title=\"wall time(ns)\"),\n",
    "        color=color,\n",
    "        opacity=opacity,\n",
    "    ).properties(\n",
    "        width=800,\n",
    "        height=800,\n",
    "    ).transform_filter(\n",
    "        selection    \n",
    "    )\n",
    "\n",
    "    legend = altair.Chart(data).mark_point().encode(\n",
    "        y=altair.Y('command:N').axis(orient='right'),\n",
    "        color=color\n",
    "    ).add_params(\n",
    "        selection\n",
    "    )\n",
    "\n",
    "    return point, legend\n",
    "\n",
    "(selection, color, opacity) = make_selection()\n",
    "\n",
    "plot_build, legend = make_plot(build, selection, color, opacity)\n",
    "plot_build = plot_build.properties(\n",
    "    title=\"Tree building\",\n",
    ")\n",
    "\n",
    "plot_query, legend = make_plot(query, selection, color, opacity)\n",
    "plot_query = plot_query.properties(\n",
    "    title=\"Tree query\",\n",
    ")\n",
    "\n",
    "#plot_av, legend = make_plot(annotation_variant, selection, color, opacity)\n",
    "#plot_av = plot_av.properties(\n",
    "#    title=\"Variant annotation\",\n",
    "#)\n",
    "\n",
    "plot_build & plot_query | legend #& plot_av | legend"
   ]
  },
  {
   "cell_type": "markdown",
   "id": "98b51eda-b0f7-4622-8333-c382c6591ab8",
   "metadata": {},
   "source": [
    "## Thread effect"
   ]
  },
  {
   "cell_type": "code",
   "execution_count": null,
   "id": "668d3426-6912-4f4c-a155-0e96ebbee1eb",
   "metadata": {},
   "outputs": [],
   "source": [
    "def thread_effect_data(path: pathlib.Path, input_path: pathlib.Path):\n",
    "    data = pandas.read_csv(path)\n",
    "\n",
    "    data[\"dataset_domain\"] = input_path + \"_\" + data[\"command\"].str.extract(\".+_(.+)_.+\")\n",
    "    data[\"thread\"] = data[\"command\"].str.extract(\".+_.+_(.+)\").astype(int)\n",
    "\n",
    "    data = data[[\"dataset_domain\", \"thread\", \"median\"]]\n",
    "\n",
    "    return data"
   ]
  },
  {
   "cell_type": "code",
   "execution_count": null,
   "id": "b8888bb2-a896-4824-9c2f-b68926e06650",
   "metadata": {},
   "outputs": [],
   "source": [
    "thread_effect = pandas.concat((\n",
    "    thread_effect_data(result / \"thread_effect_clinvar.csv\", \"clinvar\"),\n",
    "    thread_effect_data(result / \"thread_effect_gnomad.csv\", \"gnomad\"),\n",
    "    thread_effect_data(result / \"thread_effect_hg001.csv\", \"hg001\"),\n",
    "    thread_effect_data(result / \"thread_effect_hg002.csv\", \"hg002\"),\n",
    "    thread_effect_data(result / \"thread_effect_hg003.csv\", \"hg003\"),\n",
    "    thread_effect_data(result / \"thread_effect_hg004.csv\", \"hg004\"),\n",
    "    thread_effect_data(result / \"thread_effect_hg006.csv\", \"hg006\"),\n",
    "    thread_effect_data(result / \"thread_effect_hg007.csv\", \"hg007\"),\n",
    "))"
   ]
  },
  {
   "cell_type": "code",
   "execution_count": null,
   "id": "375a209d-bc61-40bb-9990-02a5d4f2f571",
   "metadata": {},
   "outputs": [],
   "source": [
    "def make_selection():\n",
    "    selection = altair.selection_point(fields=['dataset_domain'])\n",
    "    color = altair.condition(\n",
    "        selection,\n",
    "        altair.Color('dataset_domain:N').legend(None),\n",
    "        altair.value('lightgray')\n",
    "    )\n",
    "    opacity = altair.condition(selection, altair.value(1.0), altair.value(0.25))\n",
    "\n",
    "    return (selection, color, opacity)\n",
    "\n",
    "def make_plot(data: pandas.DataFrame, selection, color, opacity) -> altair.Chart:\n",
    "    point = altair.Chart(data).mark_line().encode(\n",
    "        x=altair.X(\"thread:N\", title=\"number of thread\"),\n",
    "        y=altair.Y(\"median\", title=\"wall time(ns)\"),\n",
    "        color=color,\n",
    "        opacity=opacity,\n",
    "    ).properties(\n",
    "        width=800,\n",
    "        height=800,\n",
    "    ).transform_filter(\n",
    "        selection    \n",
    "    )\n",
    "\n",
    "    legend = altair.Chart(data).mark_point().encode(\n",
    "        y=altair.Y('dataset_domain:N').axis(orient='right'),\n",
    "        color=color\n",
    "    ).add_params(\n",
    "        selection\n",
    "    )\n",
    "\n",
    "    return point, legend\n",
    "    \n",
    "(selection, color, opacity) = make_selection()\n",
    "\n",
    "plot_thread_effect, legend = make_plot(thread_effect, selection, color, opacity)\n",
    "plot_thread_effect = plot_thread_effect.properties(\n",
    "    title=\"Thread effect\",\n",
    ")\n",
    "\n",
    "plot_thread_effect | legend"
   ]
  },
  {
   "cell_type": "code",
   "execution_count": null,
   "id": "bc07df0c-5fee-464c-a520-714550011c27",
   "metadata": {},
   "outputs": [],
   "source": []
  }
 ],
 "metadata": {
  "kernelspec": {
   "display_name": "Python 3 (ipykernel)",
   "language": "python",
   "name": "python3"
  },
  "language_info": {
   "codemirror_mode": {
    "name": "ipython",
    "version": 3
   },
   "file_extension": ".py",
   "mimetype": "text/x-python",
   "name": "python",
   "nbconvert_exporter": "python",
   "pygments_lexer": "ipython3",
   "version": "3.12.1"
  }
 },
 "nbformat": 4,
 "nbformat_minor": 5
}
